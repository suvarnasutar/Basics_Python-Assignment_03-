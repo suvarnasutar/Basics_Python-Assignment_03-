{
 "cells": [
  {
   "cell_type": "code",
   "execution_count": null,
   "id": "7e5bfad4",
   "metadata": {},
   "outputs": [],
   "source": [
    "#########  Que 1  ######\n",
    "1. Why are functions advantageous to have in your programs?"
   ]
  },
  {
   "cell_type": "code",
   "execution_count": null,
   "id": "c4a85ac5",
   "metadata": {},
   "outputs": [],
   "source": [
    "A function is a block of organized,reusable code that is used to perform a single, related action.\n",
    "* Key advantages :\n",
    "    1.Enables reusability and reduce redundancy\n",
    "    2.Makes a code modular.\n",
    "    3.Provides abstraction functionality.\n",
    "    4.The program becomes easy to understand and manage.\n",
    "    5.Breaks an extensive program into smaller and simpler pieces."
   ]
  },
  {
   "cell_type": "code",
   "execution_count": null,
   "id": "854f9431",
   "metadata": {},
   "outputs": [],
   "source": []
  },
  {
   "cell_type": "code",
   "execution_count": null,
   "id": "434487f9",
   "metadata": {},
   "outputs": [],
   "source": [
    "#########  Que 2  ######\n",
    "2. When does the code in a function run: when it's specified or when it's called?"
   ]
  },
  {
   "cell_type": "code",
   "execution_count": null,
   "id": "a057c984",
   "metadata": {},
   "outputs": [],
   "source": [
    "when the function is called at the time only the code in function executes."
   ]
  },
  {
   "cell_type": "code",
   "execution_count": 1,
   "id": "aa664332",
   "metadata": {},
   "outputs": [],
   "source": [
    "def display():            #defining the function\n",
    "    print(f\"Hello world\")"
   ]
  },
  {
   "cell_type": "code",
   "execution_count": 2,
   "id": "6e3d2597",
   "metadata": {},
   "outputs": [
    {
     "name": "stdout",
     "output_type": "stream",
     "text": [
      "Hello world\n"
     ]
    }
   ],
   "source": [
    "display()                 # calling of function "
   ]
  },
  {
   "cell_type": "code",
   "execution_count": null,
   "id": "e51d8eee",
   "metadata": {},
   "outputs": [],
   "source": []
  },
  {
   "cell_type": "code",
   "execution_count": null,
   "id": "61cb39dd",
   "metadata": {},
   "outputs": [],
   "source": [
    "#########  Que 3  ######\n",
    "3. What statement creates a function?"
   ]
  },
  {
   "cell_type": "code",
   "execution_count": null,
   "id": "f108719f",
   "metadata": {},
   "outputs": [],
   "source": [
    "In python, we define a function with def keyword,then function name followed by parenthesis and then a colon.\n",
    "Example:\n",
    "    \n",
    "    def functionName():   #Defining function\n",
    "        # function task\n",
    "        print(\"hello\")"
   ]
  },
  {
   "cell_type": "code",
   "execution_count": null,
   "id": "b5656efd",
   "metadata": {},
   "outputs": [],
   "source": []
  },
  {
   "cell_type": "code",
   "execution_count": null,
   "id": "5808333c",
   "metadata": {},
   "outputs": [],
   "source": [
    "#########  Que 4  ######\n",
    "4. What is the difference between a function and a function call?"
   ]
  },
  {
   "cell_type": "code",
   "execution_count": null,
   "id": "af8a41aa",
   "metadata": {},
   "outputs": [],
   "source": [
    "Function is a piece of code which is used for reusability and modularity of the program.\n",
    "A function call means invoking or calling that function.Unless a function is called there is no use of that function."
   ]
  },
  {
   "cell_type": "code",
   "execution_count": 11,
   "id": "b5358aed",
   "metadata": {},
   "outputs": [],
   "source": [
    "    def funNew():            #defining the function\n",
    "        print(f\"Good Morning\")"
   ]
  },
  {
   "cell_type": "code",
   "execution_count": 12,
   "id": "1a7d2b0f",
   "metadata": {},
   "outputs": [
    {
     "name": "stdout",
     "output_type": "stream",
     "text": [
      "Good Morning\n"
     ]
    }
   ],
   "source": [
    "funNew()  # call to print statement"
   ]
  },
  {
   "cell_type": "code",
   "execution_count": null,
   "id": "99b780d8",
   "metadata": {},
   "outputs": [],
   "source": []
  },
  {
   "cell_type": "code",
   "execution_count": null,
   "id": "8c1dfdc6",
   "metadata": {},
   "outputs": [],
   "source": [
    "#########  Que 5  ######\n",
    "5. How many global scopes are there in a Python program? How many local scopes?"
   ]
  },
  {
   "cell_type": "code",
   "execution_count": null,
   "id": "0189dbb0",
   "metadata": {},
   "outputs": [],
   "source": [
    "A variable created in the main body of the Python code is a global variable and belongs to the global scope.\n",
    "In Python program there is only one global python scope per program execution.This scope remains in existence until the program \n",
    "terminates and all its names are forgotten."
   ]
  },
  {
   "cell_type": "code",
   "execution_count": 14,
   "id": "314ce827",
   "metadata": {},
   "outputs": [],
   "source": [
    "a=10   # variable created outside the function(global)\n",
    "\n",
    "def display():\n",
    "    print(a)"
   ]
  },
  {
   "cell_type": "code",
   "execution_count": 15,
   "id": "7e0ab4d5",
   "metadata": {},
   "outputs": [
    {
     "name": "stdout",
     "output_type": "stream",
     "text": [
      "10\n"
     ]
    }
   ],
   "source": [
    "display()"
   ]
  },
  {
   "cell_type": "code",
   "execution_count": null,
   "id": "f06bef96",
   "metadata": {},
   "outputs": [],
   "source": [
    "Local (or function) scope is the code block or body of any Python function or lambda expression. A variable created inside a \n",
    "function belongs to the local scope of that function, and can only be used inside that function."
   ]
  },
  {
   "cell_type": "code",
   "execution_count": 17,
   "id": "65155842",
   "metadata": {},
   "outputs": [],
   "source": [
    "def myfunc():\n",
    "  x = 20     # variable is created inside the function(local)\n",
    "  print(x)"
   ]
  },
  {
   "cell_type": "code",
   "execution_count": 18,
   "id": "9affdf77",
   "metadata": {},
   "outputs": [
    {
     "name": "stdout",
     "output_type": "stream",
     "text": [
      "20\n"
     ]
    }
   ],
   "source": [
    "myfunc()"
   ]
  },
  {
   "cell_type": "code",
   "execution_count": null,
   "id": "1862f22a",
   "metadata": {},
   "outputs": [],
   "source": []
  },
  {
   "cell_type": "code",
   "execution_count": null,
   "id": "605b300b",
   "metadata": {},
   "outputs": [],
   "source": [
    "#########  Que 6  ######\n",
    "6. What happens to variables in a local scope when the function call returns?"
   ]
  },
  {
   "cell_type": "code",
   "execution_count": null,
   "id": "4c7d86c8",
   "metadata": {},
   "outputs": [],
   "source": [
    "The variable a only exists while the function is being executed. When the execution of the function terminates (returns), the \n",
    "local variables are destroyed. When a function returns, it's local variables are “popped off” the stack.\n"
   ]
  },
  {
   "cell_type": "code",
   "execution_count": 23,
   "id": "49d867df",
   "metadata": {},
   "outputs": [],
   "source": [
    "    def square(x):\n",
    "        y = x * x\n",
    "        return y   "
   ]
  },
  {
   "cell_type": "code",
   "execution_count": 25,
   "id": "4c5fcc41",
   "metadata": {},
   "outputs": [
    {
     "ename": "NameError",
     "evalue": "name 'y' is not defined",
     "output_type": "error",
     "traceback": [
      "\u001b[1;31m---------------------------------------------------------------------------\u001b[0m",
      "\u001b[1;31mNameError\u001b[0m                                 Traceback (most recent call last)",
      "Cell \u001b[1;32mIn[25], line 2\u001b[0m\n\u001b[0;32m      1\u001b[0m sq \u001b[38;5;241m=\u001b[39m square(\u001b[38;5;241m2\u001b[39m)\n\u001b[1;32m----> 2\u001b[0m \u001b[38;5;28mprint\u001b[39m(y)\n",
      "\u001b[1;31mNameError\u001b[0m: name 'y' is not defined"
     ]
    }
   ],
   "source": [
    " sq = square(2)\n",
    "print(y)\n"
   ]
  },
  {
   "cell_type": "code",
   "execution_count": null,
   "id": "b4838c79",
   "metadata": {},
   "outputs": [],
   "source": [
    "This results in the error: 'y' is not defined.Because the variable y only exists while the function is being executed."
   ]
  },
  {
   "cell_type": "code",
   "execution_count": null,
   "id": "de5a4100",
   "metadata": {},
   "outputs": [],
   "source": []
  },
  {
   "cell_type": "code",
   "execution_count": null,
   "id": "21560a8e",
   "metadata": {},
   "outputs": [],
   "source": [
    "#########  Que 7  ######\n",
    "7. What is the concept of a return value? Is it possible to have a return value in an expression?"
   ]
  },
  {
   "cell_type": "code",
   "execution_count": null,
   "id": "050f0d34",
   "metadata": {},
   "outputs": [],
   "source": [
    "The Python return statement is a special statement that you can use inside a function or method to send the function's result \n",
    "back to the caller. A return statement consists of the return keyword followed by an optional return value. The return value of \n",
    "a Python function can be any Python object.\n",
    "Return values are just the values that a function returns when it completes. "
   ]
  },
  {
   "cell_type": "code",
   "execution_count": 26,
   "id": "72cfbff4",
   "metadata": {},
   "outputs": [],
   "source": [
    "def square(x):\n",
    "    s=x*x\n",
    "    return s   #returning square of x"
   ]
  },
  {
   "cell_type": "code",
   "execution_count": 27,
   "id": "67d97999",
   "metadata": {},
   "outputs": [
    {
     "data": {
      "text/plain": [
       "16"
      ]
     },
     "execution_count": 27,
     "metadata": {},
     "output_type": "execute_result"
    }
   ],
   "source": [
    "square(4)"
   ]
  },
  {
   "cell_type": "code",
   "execution_count": null,
   "id": "0bb8a13a",
   "metadata": {},
   "outputs": [],
   "source": []
  },
  {
   "cell_type": "code",
   "execution_count": null,
   "id": "556afade",
   "metadata": {},
   "outputs": [],
   "source": [
    "#########  Que 8  ######\n",
    "8. If a function does not have a return statement, what is the return value of a call to that function?"
   ]
  },
  {
   "cell_type": "code",
   "execution_count": null,
   "id": "2e532534",
   "metadata": {},
   "outputs": [],
   "source": [
    "If a function does not have a return statement,control automatically returns to the calling function after the last statement \n",
    "of the called function is executed.\n",
    "In this case, the return value of the called function is None.\n"
   ]
  },
  {
   "cell_type": "code",
   "execution_count": 55,
   "id": "4cf9cbbc",
   "metadata": {},
   "outputs": [],
   "source": [
    "def my_func2():\n",
    "  print (\"Hello World\")\n",
    "  return                        #returns nothing\n"
   ]
  },
  {
   "cell_type": "code",
   "execution_count": 56,
   "id": "ea81a076",
   "metadata": {},
   "outputs": [],
   "source": [
    "def my_func3():\n",
    "  print( \"Hello World\")           #returns nothing\n"
   ]
  },
  {
   "cell_type": "code",
   "execution_count": null,
   "id": "cb70d129",
   "metadata": {},
   "outputs": [],
   "source": []
  },
  {
   "cell_type": "code",
   "execution_count": null,
   "id": "002cdf10",
   "metadata": {},
   "outputs": [],
   "source": [
    "#########  Que 9  ######\n",
    "9. How do you make a function variable refer to the global variable?"
   ]
  },
  {
   "cell_type": "code",
   "execution_count": null,
   "id": "b9b28f0b",
   "metadata": {},
   "outputs": [],
   "source": [
    "To create a global variable in Python, you need to declare the variable outside the function or in a global scope."
   ]
  },
  {
   "cell_type": "code",
   "execution_count": 44,
   "id": "07c33965",
   "metadata": {},
   "outputs": [],
   "source": [
    "x=\"Welcome\"           # global variable outside the function\n",
    "def func():\n",
    "    print(\"Python global variable value is : \", x)"
   ]
  },
  {
   "cell_type": "code",
   "execution_count": 45,
   "id": "b8660618",
   "metadata": {},
   "outputs": [
    {
     "name": "stdout",
     "output_type": "stream",
     "text": [
      "Python global variable value is :  Welcome\n"
     ]
    }
   ],
   "source": [
    "func()"
   ]
  },
  {
   "cell_type": "code",
   "execution_count": null,
   "id": "50610adc",
   "metadata": {},
   "outputs": [],
   "source": []
  },
  {
   "cell_type": "code",
   "execution_count": null,
   "id": "67f4e645",
   "metadata": {},
   "outputs": [],
   "source": [
    "#########  Que 10  ######\n",
    "10. What is the data type of None?"
   ]
  },
  {
   "cell_type": "code",
   "execution_count": null,
   "id": "b271347d",
   "metadata": {},
   "outputs": [],
   "source": [
    "None is void. None is the special data type in Python. It just represents the absence of the value.\n",
    "None is a data type of its own (NoneType) and only None can be None."
   ]
  },
  {
   "cell_type": "code",
   "execution_count": 52,
   "id": "2364540b",
   "metadata": {},
   "outputs": [
    {
     "name": "stdout",
     "output_type": "stream",
     "text": [
      "None is just none\n"
     ]
    }
   ],
   "source": [
    "x =None\n",
    "\n",
    "print(\"None is just none\")"
   ]
  },
  {
   "cell_type": "code",
   "execution_count": null,
   "id": "b9f832db",
   "metadata": {},
   "outputs": [],
   "source": []
  },
  {
   "cell_type": "code",
   "execution_count": null,
   "id": "bd63ef09",
   "metadata": {},
   "outputs": [],
   "source": [
    "#########  Que 11  ######\n",
    "11. What does the sentence import areallyourpetsnamederic do?"
   ]
  },
  {
   "cell_type": "code",
   "execution_count": null,
   "id": "0d50d00b",
   "metadata": {},
   "outputs": [],
   "source": [
    "That import statement imports a module named areallyourpetsnamederic."
   ]
  },
  {
   "cell_type": "code",
   "execution_count": null,
   "id": "1a10f713",
   "metadata": {},
   "outputs": [],
   "source": []
  },
  {
   "cell_type": "code",
   "execution_count": null,
   "id": "fb376b27",
   "metadata": {},
   "outputs": [],
   "source": [
    "#########  Que 12  ######\n",
    "12. If you had a bacon() feature in a spam module, what would you call it after importing spam?"
   ]
  },
  {
   "cell_type": "code",
   "execution_count": null,
   "id": "2ed8377c",
   "metadata": {},
   "outputs": [],
   "source": [
    " If we had a bacon() feature in a spam module,after importing spam we would call it as\n",
    "    spam.bacon()"
   ]
  },
  {
   "cell_type": "code",
   "execution_count": null,
   "id": "62b9f7c4",
   "metadata": {},
   "outputs": [],
   "source": []
  },
  {
   "cell_type": "code",
   "execution_count": null,
   "id": "471d7833",
   "metadata": {},
   "outputs": [],
   "source": [
    "#########  Que 13  ######\n",
    "13. What can you do to save a programme from crashing if it encounters an error?"
   ]
  },
  {
   "cell_type": "code",
   "execution_count": null,
   "id": "1a0edf23",
   "metadata": {},
   "outputs": [],
   "source": [
    "In python,we use the try and except statement to handle exceptions.Whenever the code breaks down,an exception is thrown without\n",
    "crashing the program.\n",
    "at first , python would process all code inside the try and except statement.When  it encounters an error, the control is passed\n",
    "to the except block, skipping the code in between. "
   ]
  },
  {
   "cell_type": "code",
   "execution_count": null,
   "id": "f63eb21d",
   "metadata": {},
   "outputs": [],
   "source": []
  },
  {
   "cell_type": "code",
   "execution_count": null,
   "id": "d8f5200f",
   "metadata": {},
   "outputs": [],
   "source": [
    "#########  Que 14  ######\n",
    "14. What is the purpose of the try clause? What is the purpose of the except clause?"
   ]
  },
  {
   "cell_type": "code",
   "execution_count": null,
   "id": "6c72e2a2",
   "metadata": {},
   "outputs": [],
   "source": [
    "The try block is used to check some code for errors i.e the code inside the try block will execute when there is no error in the\n",
    "program. Whereas the code inside the except block will execute whenever the program encounters some error in the preceding try \n",
    "block."
   ]
  },
  {
   "cell_type": "code",
   "execution_count": 53,
   "id": "6afc9e99",
   "metadata": {},
   "outputs": [],
   "source": [
    "def divide(x, y):\n",
    "    try:\n",
    "        result = x // y\n",
    "        print(\"Answer is :\", result)\n",
    "    except ZeroDivisionError:\n",
    "        print(\"Sorry ! You are dividing by zero \")\n",
    " "
   ]
  },
  {
   "cell_type": "code",
   "execution_count": 54,
   "id": "f9fabdd9",
   "metadata": {},
   "outputs": [
    {
     "name": "stdout",
     "output_type": "stream",
     "text": [
      "Sorry ! You are dividing by zero \n"
     ]
    }
   ],
   "source": [
    "divide(3,0)"
   ]
  },
  {
   "cell_type": "code",
   "execution_count": null,
   "id": "0209a66f",
   "metadata": {},
   "outputs": [],
   "source": []
  }
 ],
 "metadata": {
  "kernelspec": {
   "display_name": "Python 3 (ipykernel)",
   "language": "python",
   "name": "python3"
  },
  "language_info": {
   "codemirror_mode": {
    "name": "ipython",
    "version": 3
   },
   "file_extension": ".py",
   "mimetype": "text/x-python",
   "name": "python",
   "nbconvert_exporter": "python",
   "pygments_lexer": "ipython3",
   "version": "3.11.3"
  }
 },
 "nbformat": 4,
 "nbformat_minor": 5
}
